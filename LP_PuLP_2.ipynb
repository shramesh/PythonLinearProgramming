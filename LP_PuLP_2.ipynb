{
 "cells": [
  {
   "cell_type": "markdown",
   "id": "c670cd8b",
   "metadata": {},
   "source": [
    "A factory produces three types of beds, A, B, and C. The company that owns the factory sells beds of type A for \\\\$ 250 each, beds of type B for \\\\$320.00 each, and beds of type C for \\\\$625 each. Management estimates that all beds produced of types A and C will be sold. The number of beds of type B that can be sold is at the most 45. The production of diﬀerent types of beds require s a diﬀerent amount of resources such as basic labor hours, specialized hours, and materials. The following table provides these data<br>\n",
    "\n",
    "|Type A| Type B |Type C|Resource|\n",
    "|:-|:-|:-|:-|\n",
    "|10ft|60 ft|80 ft|Material|\n",
    "15 min|20Min|40 min|basic labor|\n",
    "5 min|15 min|20 min|Specialized labor\n",
    "\n",
    "The amounts of resources available are 450 ft of material, 210 hoursof basic labor, and 95 hours of specialized labor. The problem is to optimize sales. and solve using pulp.\n",
    "\n",
    "Source: Introduction to Computational Models with Python,Chapter 22"
   ]
  },
  {
   "cell_type": "code",
   "execution_count": 1,
   "id": "b48dea3a",
   "metadata": {},
   "outputs": [],
   "source": [
    "from pulp import *"
   ]
  },
  {
   "cell_type": "code",
   "execution_count": 88,
   "id": "505e3fcc",
   "metadata": {},
   "outputs": [],
   "source": [
    "#Number of variables, range of the variables\n",
    "numBeds=3\n",
    "rBeds=range(1,numBeds+1)"
   ]
  },
  {
   "cell_type": "code",
   "execution_count": 89,
   "id": "4c32acd2",
   "metadata": {},
   "outputs": [],
   "source": [
    "#revenue vector\n",
    "rev=[250,320,625]\n",
    "bedRev={rBeds[i]:rev[i] for i in range(numBeds)}"
   ]
  },
  {
   "cell_type": "code",
   "execution_count": 90,
   "id": "d22b6d03",
   "metadata": {},
   "outputs": [
    {
     "data": {
      "text/plain": [
       "{1: 250, 2: 320, 3: 625}"
      ]
     },
     "execution_count": 90,
     "metadata": {},
     "output_type": "execute_result"
    }
   ],
   "source": [
    "bedRev"
   ]
  },
  {
   "cell_type": "code",
   "execution_count": 91,
   "id": "8372a444",
   "metadata": {},
   "outputs": [],
   "source": [
    "## Resource Available\n",
    "numResource=3\n",
    "Resource=range(1,numResource+1)\n",
    "resAvail = [[10,15,5],\n",
    "            [60,20,15],\n",
    "            [80,40,20]   \n",
    "]\n",
    "#variable1:resource1\n",
    "#Resource 1 coeff in roww 1\n",
    "bedResAvail={(i,j):resAvail[i-1][j-1] for j in range(1,numResource+1) for i in range(1,numBeds+1)}"
   ]
  },
  {
   "cell_type": "code",
   "execution_count": 92,
   "id": "039e4332",
   "metadata": {},
   "outputs": [
    {
     "data": {
      "text/plain": [
       "{(1, 1): 10,\n",
       " (2, 1): 60,\n",
       " (3, 1): 80,\n",
       " (1, 2): 15,\n",
       " (2, 2): 20,\n",
       " (3, 2): 40,\n",
       " (1, 3): 5,\n",
       " (2, 3): 15,\n",
       " (3, 3): 20}"
      ]
     },
     "execution_count": 92,
     "metadata": {},
     "output_type": "execute_result"
    }
   ],
   "source": [
    "bedResAvail"
   ]
  },
  {
   "cell_type": "code",
   "execution_count": 93,
   "id": "0ef68a9c",
   "metadata": {},
   "outputs": [],
   "source": [
    "upbound=[450,210,95]\n",
    "upbound1={i+1:upbound[i] for i in range(numResource)}"
   ]
  },
  {
   "cell_type": "code",
   "execution_count": 94,
   "id": "a08977a7",
   "metadata": {},
   "outputs": [
    {
     "data": {
      "text/plain": [
       "{1: 450, 2: 210, 3: 95}"
      ]
     },
     "execution_count": 94,
     "metadata": {},
     "output_type": "execute_result"
    }
   ],
   "source": [
    "upbound1# 1=Material,2=Labor, 3=Special labor"
   ]
  },
  {
   "cell_type": "markdown",
   "id": "6dc2995b",
   "metadata": {},
   "source": [
    "#### Building the LP model in PuLP"
   ]
  },
  {
   "cell_type": "code",
   "execution_count": 118,
   "id": "b02905c9",
   "metadata": {},
   "outputs": [],
   "source": [
    "model=LpProblem(\"Problem.2\",LpMaximize)"
   ]
  },
  {
   "cell_type": "markdown",
   "id": "0e5c51b2",
   "metadata": {},
   "source": [
    "#### Decision Variables"
   ]
  },
  {
   "cell_type": "code",
   "execution_count": 119,
   "id": "f961c10e",
   "metadata": {},
   "outputs": [],
   "source": [
    "decVar=LpVariable.dicts(name=\"x\",indexs=rBeds,lowBound=0,upBound=None,cat=\"Integer\")"
   ]
  },
  {
   "cell_type": "markdown",
   "id": "005747d3",
   "metadata": {},
   "source": [
    "#### Objective function"
   ]
  },
  {
   "cell_type": "code",
   "execution_count": 120,
   "id": "630b7080",
   "metadata": {},
   "outputs": [
    {
     "data": {
      "text/plain": [
       "250*x_1 + 320*x_2 + 625*x_3 + 0"
      ]
     },
     "execution_count": 120,
     "metadata": {},
     "output_type": "execute_result"
    }
   ],
   "source": [
    "lpSum([bedRev[i]*decVar[i] for i in range(1,numBeds+1)])"
   ]
  },
  {
   "cell_type": "code",
   "execution_count": 121,
   "id": "a34a3e04",
   "metadata": {},
   "outputs": [],
   "source": [
    "model += lpSum([bedRev[i]*decVar[i] for i in range(1,numBeds+1)]),\"objFunction\""
   ]
  },
  {
   "cell_type": "markdown",
   "id": "39fa736e",
   "metadata": {},
   "source": [
    "#### Constraints"
   ]
  },
  {
   "cell_type": "code",
   "execution_count": 122,
   "id": "a8319bda",
   "metadata": {},
   "outputs": [
    {
     "name": "stdout",
     "output_type": "stream",
     "text": [
      "10*x_1 + 60*x_2 + 80*x_3 <= 450 Material.Resource\n",
      "15*x_1 + 20*x_2 + 40*x_3 <= 210 Basic.Labor\n",
      "5*x_1 + 15*x_2 + 20*x_3 <= 95 Special.Labor\n"
     ]
    }
   ],
   "source": [
    "#### Resource cconstraints\n",
    "c={1:\"Material.Resource\",2:\"Basic.Labor\",3:\"Special.Labor\"}\n",
    "for r in Resource:\n",
    "    print(lpSum([bedResAvail[j,r]*decVar[j] for j in rBeds])<=upbound1[r],\"%s\"%c[r])\n",
    "\n",
    "model += lpSum([bedResAvail[j,r]*decVar[j] for j in rBeds])<=upbound1[r],\"%s\"%c[r]"
   ]
  },
  {
   "cell_type": "code",
   "execution_count": 123,
   "id": "e434de28",
   "metadata": {},
   "outputs": [],
   "source": [
    "### Bed B can be sold atmost 45\n",
    "model+=decVar[2]<=45"
   ]
  },
  {
   "cell_type": "markdown",
   "id": "9ee7e7ff",
   "metadata": {},
   "source": [
    "#### Solving the model|"
   ]
  },
  {
   "cell_type": "code",
   "execution_count": 124,
   "id": "048f4614",
   "metadata": {},
   "outputs": [
    {
     "data": {
      "text/plain": [
       "1"
      ]
     },
     "execution_count": 124,
     "metadata": {},
     "output_type": "execute_result"
    }
   ],
   "source": [
    "model.solve(GLPK())"
   ]
  },
  {
   "cell_type": "code",
   "execution_count": 125,
   "id": "45203020",
   "metadata": {},
   "outputs": [
    {
     "name": "stdout",
     "output_type": "stream",
     "text": [
      "Problem Status: Optimal\n"
     ]
    }
   ],
   "source": [
    "print(\"Problem Status:\", LpStatus[model.status])"
   ]
  },
  {
   "cell_type": "code",
   "execution_count": 126,
   "id": "0e206a39",
   "metadata": {},
   "outputs": [
    {
     "name": "stdout",
     "output_type": "stream",
     "text": [
      "x_1 = 19\n",
      "x_2 = 0\n",
      "x_3 = 0\n"
     ]
    }
   ],
   "source": [
    "\n",
    "for v in model.variables():\n",
    "    print(v.name, \"=\", v.varValue)"
   ]
  },
  {
   "cell_type": "code",
   "execution_count": 130,
   "id": "97f02b72",
   "metadata": {},
   "outputs": [],
   "source": [
    "#Bed A sold= 19"
   ]
  },
  {
   "cell_type": "code",
   "execution_count": 131,
   "id": "a836e4f0",
   "metadata": {},
   "outputs": [
    {
     "name": "stdout",
     "output_type": "stream",
     "text": [
      "The total sales of beds:  4750\n"
     ]
    }
   ],
   "source": [
    "print(\"The total sales of beds: \", value(model.objective))"
   ]
  },
  {
   "cell_type": "code",
   "execution_count": null,
   "id": "713cf633",
   "metadata": {},
   "outputs": [],
   "source": []
  },
  {
   "cell_type": "code",
   "execution_count": 54,
   "id": "28205b18",
   "metadata": {},
   "outputs": [
    {
     "data": {
      "text/plain": [
       "625"
      ]
     },
     "execution_count": 54,
     "metadata": {},
     "output_type": "execute_result"
    }
   ],
   "source": [
    "\n"
   ]
  }
 ],
 "metadata": {
  "kernelspec": {
   "display_name": "Python 3",
   "language": "python",
   "name": "python3"
  },
  "language_info": {
   "codemirror_mode": {
    "name": "ipython",
    "version": 3
   },
   "file_extension": ".py",
   "mimetype": "text/x-python",
   "name": "python",
   "nbconvert_exporter": "python",
   "pygments_lexer": "ipython3",
   "version": "3.7.6"
  }
 },
 "nbformat": 4,
 "nbformat_minor": 5
}
