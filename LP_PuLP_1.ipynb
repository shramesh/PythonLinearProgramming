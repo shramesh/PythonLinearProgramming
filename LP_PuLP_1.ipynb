{
 "cells": [
  {
   "cell_type": "code",
   "execution_count": 36,
   "id": "992d7b24",
   "metadata": {},
   "outputs": [],
   "source": [
    "from pulp import *"
   ]
  },
  {
   "cell_type": "markdown",
   "id": "411c93f2",
   "metadata": {},
   "source": [
    "Model and solve the linear optimization<br>\n",
    "$$ max  2x_1+3x_2+x_3$$ <br>\n",
    "Subject to:<br>\n",
    "$$x_1+x_2+x_3 \\leq 40$$ <br>\n",
    "$$2x_1+x_2-x_3\\geq 10$$ <br>\n",
    "$$-x_2+x_3 \\geq 10$$<br>\n",
    "$$x_1,x_2,x_3 \\geq 0$$ <br>\n"
   ]
  },
  {
   "cell_type": "code",
   "execution_count": 3,
   "id": "be38e389",
   "metadata": {},
   "outputs": [],
   "source": [
    "#Number of variables\n",
    "numVars = 3"
   ]
  },
  {
   "cell_type": "code",
   "execution_count": 24,
   "id": "b1623d04",
   "metadata": {},
   "outputs": [],
   "source": [
    "#Variable names\n",
    "Vars = range(1,numVars + 1)"
   ]
  },
  {
   "cell_type": "code",
   "execution_count": 11,
   "id": "38b3bde9",
   "metadata": {},
   "outputs": [],
   "source": [
    "#Objective function weights\n",
    "weights = [2,3,1]"
   ]
  },
  {
   "cell_type": "code",
   "execution_count": 25,
   "id": "4c0b2b40",
   "metadata": {},
   "outputs": [],
   "source": [
    "# Dictionary with format {Variable#:Weight#}\n",
    "objW = {Vars[i]:weights[i] for i in range(numVars)}"
   ]
  },
  {
   "cell_type": "code",
   "execution_count": 26,
   "id": "e29f5e28",
   "metadata": {},
   "outputs": [
    {
     "data": {
      "text/plain": [
       "{1: 2, 2: 3, 3: 1}"
      ]
     },
     "execution_count": 26,
     "metadata": {},
     "output_type": "execute_result"
    }
   ],
   "source": [
    "objW"
   ]
  },
  {
   "cell_type": "code",
   "execution_count": 21,
   "id": "457d8d3f",
   "metadata": {},
   "outputs": [],
   "source": [
    "#Number of constraints\n",
    "numConstr = 3"
   ]
  },
  {
   "cell_type": "code",
   "execution_count": 27,
   "id": "ac6ac2f2",
   "metadata": {},
   "outputs": [],
   "source": [
    "#Constraint numbers 1,2,3\n",
    "Constr = range(1,numConstr+1)"
   ]
  },
  {
   "cell_type": "code",
   "execution_count": 28,
   "id": "764250be",
   "metadata": {},
   "outputs": [],
   "source": [
    "# Coefficients for each variable\n",
    "# Variable 1 coefficients => row 1\n",
    "coeff=[[1,2,0],\n",
    "      [1,1,-1],\n",
    "      [1,-1,1]]"
   ]
  },
  {
   "cell_type": "code",
   "execution_count": 33,
   "id": "4da31ff1",
   "metadata": {},
   "outputs": [],
   "source": [
    "# Dictionary of format {Variable#,Constraint#: coefficient}\n",
    "coeffMat= {(Vars[i],Constr[j]):coeff[i][j] for i in range(numVars) for j in range (numConstr)}"
   ]
  },
  {
   "cell_type": "code",
   "execution_count": 34,
   "id": "fc6e9672",
   "metadata": {},
   "outputs": [
    {
     "data": {
      "text/plain": [
       "{(1, 1): 1,\n",
       " (1, 2): 2,\n",
       " (1, 3): 0,\n",
       " (2, 1): 1,\n",
       " (2, 2): 1,\n",
       " (2, 3): -1,\n",
       " (3, 1): 1,\n",
       " (3, 2): -1,\n",
       " (3, 3): 1}"
      ]
     },
     "execution_count": 34,
     "metadata": {},
     "output_type": "execute_result"
    }
   ],
   "source": [
    "coeffMat # format (variable#,conatraint#)"
   ]
  },
  {
   "cell_type": "code",
   "execution_count": 73,
   "id": "d18ac9e8",
   "metadata": {},
   "outputs": [],
   "source": [
    "# RHS of constraints value\n",
    "ConstrRHS = [40,10,10]"
   ]
  },
  {
   "cell_type": "code",
   "execution_count": 80,
   "id": "923d50e2",
   "metadata": {},
   "outputs": [],
   "source": [
    "#dictionary of format {Constraint # : Value of constraint's RHS}\n",
    "b = {Constr[i]:ConstrRHS[i] for i in range(numConstr)}"
   ]
  },
  {
   "cell_type": "code",
   "execution_count": 81,
   "id": "38f03e0d",
   "metadata": {},
   "outputs": [
    {
     "data": {
      "text/plain": [
       "{1: 40, 2: 10, 3: 10}"
      ]
     },
     "execution_count": 81,
     "metadata": {},
     "output_type": "execute_result"
    }
   ],
   "source": [
    "b"
   ]
  },
  {
   "cell_type": "markdown",
   "id": "615daf13",
   "metadata": {},
   "source": [
    "#### Building the LP Model"
   ]
  },
  {
   "cell_type": "code",
   "execution_count": 39,
   "id": "276237ea",
   "metadata": {},
   "outputs": [],
   "source": [
    "model=LpProblem(\"Problem.1\",LpMaximize)"
   ]
  },
  {
   "cell_type": "markdown",
   "id": "2d232d96",
   "metadata": {},
   "source": [
    "#### Decision Variables"
   ]
  },
  {
   "cell_type": "code",
   "execution_count": 52,
   "id": "38ecc941",
   "metadata": {},
   "outputs": [],
   "source": [
    "decVar=LpVariable.dicts(name=\"x\",indexs=Vars,lowBound=0,upBound=None)"
   ]
  },
  {
   "cell_type": "code",
   "execution_count": 93,
   "id": "148ca776",
   "metadata": {},
   "outputs": [
    {
     "data": {
      "text/plain": [
       "{1: x_1, 2: x_2, 3: x_3}"
      ]
     },
     "execution_count": 93,
     "metadata": {},
     "output_type": "execute_result"
    }
   ],
   "source": [
    "decVar"
   ]
  },
  {
   "cell_type": "markdown",
   "id": "c5880773",
   "metadata": {},
   "source": [
    "#### Objective Function"
   ]
  },
  {
   "cell_type": "code",
   "execution_count": 67,
   "id": "ac075ea9",
   "metadata": {},
   "outputs": [
    {
     "name": "stdout",
     "output_type": "stream",
     "text": [
      "2*x_1 + 3*x_2 + x_3 ObjectiveFunc\n"
     ]
    },
    {
     "name": "stderr",
     "output_type": "stream",
     "text": [
      "C:\\Users\\shrad\\anaconda3\\lib\\site-packages\\pulp\\pulp.py:1537: UserWarning: Overwriting previously set objective.\n",
      "  warnings.warn(\"Overwriting previously set objective.\")\n"
     ]
    }
   ],
   "source": [
    "#objective function\n",
    "model += lpSum([objW[i]*decVar[i] for i in Vars]),\"ObjectiveFunc\"\n",
    "print(lpSum([objW[i]*decVar[i] for i in Vars]),\"ObjectiveFunc\")"
   ]
  },
  {
   "cell_type": "markdown",
   "id": "f099ab88",
   "metadata": {},
   "source": [
    "#### Constraints"
   ]
  },
  {
   "cell_type": "code",
   "execution_count": 88,
   "id": "094e2a30",
   "metadata": {},
   "outputs": [
    {
     "name": "stdout",
     "output_type": "stream",
     "text": [
      "2*x_1 + x_2 - x_3 <= 10 Constraint2\n",
      "-x_2 + x_3 <= 10 Constraint3\n",
      "x_1 + x_2 + x_3 >= 40 Constraint1\n"
     ]
    }
   ],
   "source": [
    "# Print the Constrainst to verify\n",
    "for c in Constr[1:]:\n",
    "    print(lpSum([coeffMat[j,c]*decVar[j] for j in Vars])<=b[c],\"Constraint%d\"%c)\n",
    "\n",
    "print(lpSum([coeffMat[j,1]*decVar[j] for j in Vars])>=b[1],\"Constraint1\")\n",
    "    "
   ]
  },
  {
   "cell_type": "code",
   "execution_count": 83,
   "id": "f0824183",
   "metadata": {},
   "outputs": [],
   "source": [
    "model += lpSum([coeffMat[j,1]*decVar[j] for j in Vars])>=b[1],\"Constraint1\" # >= constraint\n",
    "\n",
    "for c in Constr[1:]:\n",
    "    model += lpSum([coeffMat[j,c]*decVar[j] for j in Vars])<=b[c],\"Constraint%d\"%c"
   ]
  },
  {
   "cell_type": "markdown",
   "id": "d2532ad8",
   "metadata": {},
   "source": [
    "#### Solving the model using GLPK"
   ]
  },
  {
   "cell_type": "code",
   "execution_count": 89,
   "id": "5df18588",
   "metadata": {},
   "outputs": [
    {
     "data": {
      "text/plain": [
       "1"
      ]
     },
     "execution_count": 89,
     "metadata": {},
     "output_type": "execute_result"
    }
   ],
   "source": [
    "model.solve(GLPK())"
   ]
  },
  {
   "cell_type": "code",
   "execution_count": 99,
   "id": "77cb3b22",
   "metadata": {},
   "outputs": [
    {
     "name": "stdout",
     "output_type": "stream",
     "text": [
      "Problem Status: Optimal\n"
     ]
    }
   ],
   "source": [
    "print(\"Problem Status:\", LpStatus[model.status])"
   ]
  },
  {
   "cell_type": "code",
   "execution_count": 91,
   "id": "8d51c4c0",
   "metadata": {},
   "outputs": [
    {
     "name": "stdout",
     "output_type": "stream",
     "text": [
      "x_1 = 0.0\n",
      "x_2 = 0.0\n",
      "x_3 = 10.0\n"
     ]
    }
   ],
   "source": [
    "for v in model.variables():\n",
    "    print(v.name, \"=\", v.varValue)"
   ]
  },
  {
   "cell_type": "code",
   "execution_count": 92,
   "id": "44cd844e",
   "metadata": {},
   "outputs": [
    {
     "name": "stdout",
     "output_type": "stream",
     "text": [
      "Objective function:  10.0\n"
     ]
    }
   ],
   "source": [
    "print(\"Objective function: \", value(model.objective))"
   ]
  }
 ],
 "metadata": {
  "kernelspec": {
   "display_name": "Python 3",
   "language": "python",
   "name": "python3"
  },
  "language_info": {
   "codemirror_mode": {
    "name": "ipython",
    "version": 3
   },
   "file_extension": ".py",
   "mimetype": "text/x-python",
   "name": "python",
   "nbconvert_exporter": "python",
   "pygments_lexer": "ipython3",
   "version": "3.7.6"
  }
 },
 "nbformat": 4,
 "nbformat_minor": 5
}
